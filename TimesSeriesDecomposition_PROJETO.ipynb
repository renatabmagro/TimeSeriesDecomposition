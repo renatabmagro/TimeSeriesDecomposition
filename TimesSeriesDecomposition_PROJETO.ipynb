{
  "nbformat": 4,
  "nbformat_minor": 0,
  "metadata": {
    "colab": {
      "name": "TimesSeriesDecomposition_PROJETO.ipynb",
      "provenance": [],
      "authorship_tag": "ABX9TyNCI0naJr06LI5rWTOVfImR",
      "include_colab_link": true
    },
    "kernelspec": {
      "name": "ir",
      "display_name": "R"
    },
    "language_info": {
      "name": "R"
    }
  },
  "cells": [
    {
      "cell_type": "markdown",
      "metadata": {
        "id": "view-in-github",
        "colab_type": "text"
      },
      "source": [
        "<a href=\"https://colab.research.google.com/github/renatabmagro/TimeSeriesDecomposition/blob/main/TimesSeriesDecomposition_PROJETO.ipynb\" target=\"_parent\"><img src=\"https://colab.research.google.com/assets/colab-badge.svg\" alt=\"Open In Colab\"/></a>"
      ]
    },
    {
      "cell_type": "markdown",
      "source": [
        "Script para decomposição de série temporal "
      ],
      "metadata": {
        "id": "J5WeyABB274_"
      }
    },
    {
      "cell_type": "markdown",
      "source": [
        "Observações sobre séries temporais: \n",
        "> Uma série temporal consiste em um conjunto de observações ordenadas no tempo sobre um determinado fenômeno (variável-alvo). Normalmente, as medidas da série são igualmente espaçadas, por exemplo, por ano, mês, semana, dia. A propriedade mais importante de uma série cronológica é que as observações ordenadas são dependentes do tempo. \n",
        "> Uma série temporal é composta, basicamente, por 3 elementos: \n",
        "   * Sazonalidade\n",
        "   * Tendência \n",
        "   * Resíduo \n",
        "\n",
        "> A decomposição das séries temporais é a sua decomposição em componentes não-observáveis que podem ser associados a diferentes tipos de variações temporais. \n",
        "\n",
        "> Realizar uma decomposição de série temporal é um dos melhores caminhos para avaliar como cada um dos componentes se comporta. \n",
        "\n",
        ">> Neste exemplo, realizei a decomposição de uma série temporal climática - a qual contém variáveis de interesse agrônomico para avaliação da produção anual de macieiras. \n",
        "\n",
        ">> O objetivo foi apenas experimental e educacional, buscando realizar testes com o pacote stl () para avaliar o comportamento das séries temporais. "
      ],
      "metadata": {
        "id": "lzpgoeDt3CNH"
      }
    },
    {
      "cell_type": "code",
      "execution_count": null,
      "metadata": {
        "id": "C9Y3Dzc92t2i"
      },
      "outputs": [],
      "source": [
        "# Importação das bibliotecas \n",
        "install.packages(\"readxl\")\n",
        "library(readxl)\n",
        "install.packages(\"tidyr\")\n",
        "install.packages(\"tidyverse\")\n",
        "library(tidyr)\n",
        "library(tidyverse)\n",
        "install.packages(\"dplyr\")\n",
        "library(dplyr)\n",
        "install.packages(\"corrplot\")\n",
        "library(corrplot)\n",
        "install.packages(\"ggcorrplot\")\n",
        "library(ggcorrplot)\n",
        "install.packages(\"lubridate\")\n",
        "library(lubridate)\n",
        "install.packages(\"dygraphs\")\n",
        "library(dygraphs)\n",
        "install.packages(\"xts\")\n",
        "library(xts)\n",
        "install.packages(\"tsbox\")\n",
        "library(tsbox)"
      ]
    },
    {
      "cell_type": "code",
      "source": [
        "# Leitura do banco de dados climáticos \n",
        "  # O banco de dados contém variáveis climáticas relativas à: Temperatura máxima, Temperatura mínima, Temperatura média, Radiação solar, Precipitação, Evapotranspiração, Graus Dia e Horas Frio\n",
        "  # Os dados estão em frequência diária \n",
        "\n",
        "dados_clima = read_excel(\"BancoDados_clima.xlsx\")\n"
      ],
      "metadata": {
        "id": "btiefRhT6D4O"
      },
      "execution_count": 4,
      "outputs": []
    },
    {
      "cell_type": "code",
      "source": [
        "# Visualização da planilha \n",
        "head(dados_clima)\n",
        "tail(dados_clima)\n"
      ],
      "metadata": {
        "colab": {
          "base_uri": "https://localhost:8080/",
          "height": 556
        },
        "id": "BIpd72Gq7aNr",
        "outputId": "19966c12-f8e0-4f9a-9e36-a200cab360d5"
      },
      "execution_count": 6,
      "outputs": [
        {
          "output_type": "display_data",
          "data": {
            "text/html": [
              "<table class=\"dataframe\">\n",
              "<caption>A tibble: 6 × 12</caption>\n",
              "<thead>\n",
              "\t<tr><th scope=col>Data</th><th scope=col>Dia</th><th scope=col>Mês</th><th scope=col>Ano</th><th scope=col>Temp_max</th><th scope=col>Temp_min</th><th scope=col>Temp_media</th><th scope=col>Radiacao_acum</th><th scope=col>Precip</th><th scope=col>GD</th><th scope=col>Eto</th><th scope=col>HorasFrio</th></tr>\n",
              "\t<tr><th scope=col>&lt;dttm&gt;</th><th scope=col>&lt;dbl&gt;</th><th scope=col>&lt;dbl&gt;</th><th scope=col>&lt;dbl&gt;</th><th scope=col>&lt;dbl&gt;</th><th scope=col>&lt;dbl&gt;</th><th scope=col>&lt;dbl&gt;</th><th scope=col>&lt;dbl&gt;</th><th scope=col>&lt;dbl&gt;</th><th scope=col>&lt;dbl&gt;</th><th scope=col>&lt;dbl&gt;</th><th scope=col>&lt;dbl&gt;</th></tr>\n",
              "</thead>\n",
              "<tbody>\n",
              "\t<tr><td>2008-04-26</td><td>26</td><td>4</td><td>2008</td><td>15.644444</td><td>14.344444</td><td>14.994444</td><td> 3.0950</td><td> 4.0</td><td>4.994444</td><td>1.7989028</td><td> 1</td></tr>\n",
              "\t<tr><td>2008-04-27</td><td>27</td><td>4</td><td>2008</td><td>16.891667</td><td>15.512500</td><td>16.202083</td><td>17.2396</td><td> 0.0</td><td>6.202083</td><td>4.2977587</td><td> 0</td></tr>\n",
              "\t<tr><td>2008-04-28</td><td>28</td><td>4</td><td>2008</td><td>15.395833</td><td>14.550000</td><td>14.972917</td><td> 2.1743</td><td>46.8</td><td>4.972917</td><td>0.6192767</td><td> 0</td></tr>\n",
              "\t<tr><td>2008-04-29</td><td>29</td><td>4</td><td>2008</td><td>13.970833</td><td>13.312500</td><td>13.641667</td><td> 4.2373</td><td>11.4</td><td>3.641667</td><td>0.9281582</td><td> 0</td></tr>\n",
              "\t<tr><td>2008-04-30</td><td>30</td><td>4</td><td>2008</td><td> 6.595833</td><td> 5.287500</td><td> 5.941667</td><td>19.4614</td><td> 0.2</td><td>0.000000</td><td>3.4770749</td><td>16</td></tr>\n",
              "\t<tr><td>2008-05-01</td><td> 1</td><td>5</td><td>2008</td><td> 8.366667</td><td> 7.091667</td><td> 7.729167</td><td> 9.7194</td><td> 0.0</td><td>0.000000</td><td>1.9026256</td><td>14</td></tr>\n",
              "</tbody>\n",
              "</table>\n"
            ],
            "text/markdown": "\nA tibble: 6 × 12\n\n| Data &lt;dttm&gt; | Dia &lt;dbl&gt; | Mês &lt;dbl&gt; | Ano &lt;dbl&gt; | Temp_max &lt;dbl&gt; | Temp_min &lt;dbl&gt; | Temp_media &lt;dbl&gt; | Radiacao_acum &lt;dbl&gt; | Precip &lt;dbl&gt; | GD &lt;dbl&gt; | Eto &lt;dbl&gt; | HorasFrio &lt;dbl&gt; |\n|---|---|---|---|---|---|---|---|---|---|---|---|\n| 2008-04-26 | 26 | 4 | 2008 | 15.644444 | 14.344444 | 14.994444 |  3.0950 |  4.0 | 4.994444 | 1.7989028 |  1 |\n| 2008-04-27 | 27 | 4 | 2008 | 16.891667 | 15.512500 | 16.202083 | 17.2396 |  0.0 | 6.202083 | 4.2977587 |  0 |\n| 2008-04-28 | 28 | 4 | 2008 | 15.395833 | 14.550000 | 14.972917 |  2.1743 | 46.8 | 4.972917 | 0.6192767 |  0 |\n| 2008-04-29 | 29 | 4 | 2008 | 13.970833 | 13.312500 | 13.641667 |  4.2373 | 11.4 | 3.641667 | 0.9281582 |  0 |\n| 2008-04-30 | 30 | 4 | 2008 |  6.595833 |  5.287500 |  5.941667 | 19.4614 |  0.2 | 0.000000 | 3.4770749 | 16 |\n| 2008-05-01 |  1 | 5 | 2008 |  8.366667 |  7.091667 |  7.729167 |  9.7194 |  0.0 | 0.000000 | 1.9026256 | 14 |\n\n",
            "text/latex": "A tibble: 6 × 12\n\\begin{tabular}{llllllllllll}\n Data & Dia & Mês & Ano & Temp\\_max & Temp\\_min & Temp\\_media & Radiacao\\_acum & Precip & GD & Eto & HorasFrio\\\\\n <dttm> & <dbl> & <dbl> & <dbl> & <dbl> & <dbl> & <dbl> & <dbl> & <dbl> & <dbl> & <dbl> & <dbl>\\\\\n\\hline\n\t 2008-04-26 & 26 & 4 & 2008 & 15.644444 & 14.344444 & 14.994444 &  3.0950 &  4.0 & 4.994444 & 1.7989028 &  1\\\\\n\t 2008-04-27 & 27 & 4 & 2008 & 16.891667 & 15.512500 & 16.202083 & 17.2396 &  0.0 & 6.202083 & 4.2977587 &  0\\\\\n\t 2008-04-28 & 28 & 4 & 2008 & 15.395833 & 14.550000 & 14.972917 &  2.1743 & 46.8 & 4.972917 & 0.6192767 &  0\\\\\n\t 2008-04-29 & 29 & 4 & 2008 & 13.970833 & 13.312500 & 13.641667 &  4.2373 & 11.4 & 3.641667 & 0.9281582 &  0\\\\\n\t 2008-04-30 & 30 & 4 & 2008 &  6.595833 &  5.287500 &  5.941667 & 19.4614 &  0.2 & 0.000000 & 3.4770749 & 16\\\\\n\t 2008-05-01 &  1 & 5 & 2008 &  8.366667 &  7.091667 &  7.729167 &  9.7194 &  0.0 & 0.000000 & 1.9026256 & 14\\\\\n\\end{tabular}\n",
            "text/plain": [
              "  Data       Dia Mês Ano  Temp_max  Temp_min  Temp_media Radiacao_acum Precip\n",
              "1 2008-04-26 26  4   2008 15.644444 14.344444 14.994444   3.0950        4.0  \n",
              "2 2008-04-27 27  4   2008 16.891667 15.512500 16.202083  17.2396        0.0  \n",
              "3 2008-04-28 28  4   2008 15.395833 14.550000 14.972917   2.1743       46.8  \n",
              "4 2008-04-29 29  4   2008 13.970833 13.312500 13.641667   4.2373       11.4  \n",
              "5 2008-04-30 30  4   2008  6.595833  5.287500  5.941667  19.4614        0.2  \n",
              "6 2008-05-01  1  5   2008  8.366667  7.091667  7.729167   9.7194        0.0  \n",
              "  GD       Eto       HorasFrio\n",
              "1 4.994444 1.7989028  1       \n",
              "2 6.202083 4.2977587  0       \n",
              "3 4.972917 0.6192767  0       \n",
              "4 3.641667 0.9281582  0       \n",
              "5 0.000000 3.4770749 16       \n",
              "6 0.000000 1.9026256 14       "
            ]
          },
          "metadata": {}
        },
        {
          "output_type": "display_data",
          "data": {
            "text/html": [
              "<table class=\"dataframe\">\n",
              "<caption>A tibble: 6 × 12</caption>\n",
              "<thead>\n",
              "\t<tr><th scope=col>Data</th><th scope=col>Dia</th><th scope=col>Mês</th><th scope=col>Ano</th><th scope=col>Temp_max</th><th scope=col>Temp_min</th><th scope=col>Temp_media</th><th scope=col>Radiacao_acum</th><th scope=col>Precip</th><th scope=col>GD</th><th scope=col>Eto</th><th scope=col>HorasFrio</th></tr>\n",
              "\t<tr><th scope=col>&lt;dttm&gt;</th><th scope=col>&lt;dbl&gt;</th><th scope=col>&lt;dbl&gt;</th><th scope=col>&lt;dbl&gt;</th><th scope=col>&lt;dbl&gt;</th><th scope=col>&lt;dbl&gt;</th><th scope=col>&lt;dbl&gt;</th><th scope=col>&lt;dbl&gt;</th><th scope=col>&lt;dbl&gt;</th><th scope=col>&lt;dbl&gt;</th><th scope=col>&lt;dbl&gt;</th><th scope=col>&lt;dbl&gt;</th></tr>\n",
              "</thead>\n",
              "<tbody>\n",
              "\t<tr><td>2022-04-25</td><td>25</td><td>4</td><td>2022</td><td>17.33333</td><td>16.18333</td><td>16.75833</td><td>14.4001</td><td> 0.0</td><td> 6.758333</td><td>3.6307719</td><td>0</td></tr>\n",
              "\t<tr><td>2022-04-26</td><td>26</td><td>4</td><td>2022</td><td>16.58333</td><td>15.96250</td><td>16.27292</td><td> 1.8457</td><td> 5.0</td><td> 6.272917</td><td>0.7258125</td><td>0</td></tr>\n",
              "\t<tr><td>2022-04-27</td><td>27</td><td>4</td><td>2022</td><td>21.08750</td><td>19.95000</td><td>20.51875</td><td>17.7411</td><td> 0.4</td><td>10.518750</td><td>5.0830510</td><td>0</td></tr>\n",
              "\t<tr><td>2022-04-28</td><td>28</td><td>4</td><td>2022</td><td>18.07083</td><td>16.41667</td><td>17.24375</td><td>11.3881</td><td>13.4</td><td> 7.243750</td><td>2.9556023</td><td>0</td></tr>\n",
              "\t<tr><td>2022-04-29</td><td>29</td><td>4</td><td>2022</td><td>14.20833</td><td>13.09583</td><td>13.65208</td><td>19.0322</td><td> 0.4</td><td> 3.652083</td><td>4.1434832</td><td>0</td></tr>\n",
              "\t<tr><td>2022-04-30</td><td>30</td><td>4</td><td>2022</td><td>12.82500</td><td>12.35000</td><td>12.58750</td><td> 3.0703</td><td>39.2</td><td> 2.587500</td><td>0.7467637</td><td>0</td></tr>\n",
              "</tbody>\n",
              "</table>\n"
            ],
            "text/markdown": "\nA tibble: 6 × 12\n\n| Data &lt;dttm&gt; | Dia &lt;dbl&gt; | Mês &lt;dbl&gt; | Ano &lt;dbl&gt; | Temp_max &lt;dbl&gt; | Temp_min &lt;dbl&gt; | Temp_media &lt;dbl&gt; | Radiacao_acum &lt;dbl&gt; | Precip &lt;dbl&gt; | GD &lt;dbl&gt; | Eto &lt;dbl&gt; | HorasFrio &lt;dbl&gt; |\n|---|---|---|---|---|---|---|---|---|---|---|---|\n| 2022-04-25 | 25 | 4 | 2022 | 17.33333 | 16.18333 | 16.75833 | 14.4001 |  0.0 |  6.758333 | 3.6307719 | 0 |\n| 2022-04-26 | 26 | 4 | 2022 | 16.58333 | 15.96250 | 16.27292 |  1.8457 |  5.0 |  6.272917 | 0.7258125 | 0 |\n| 2022-04-27 | 27 | 4 | 2022 | 21.08750 | 19.95000 | 20.51875 | 17.7411 |  0.4 | 10.518750 | 5.0830510 | 0 |\n| 2022-04-28 | 28 | 4 | 2022 | 18.07083 | 16.41667 | 17.24375 | 11.3881 | 13.4 |  7.243750 | 2.9556023 | 0 |\n| 2022-04-29 | 29 | 4 | 2022 | 14.20833 | 13.09583 | 13.65208 | 19.0322 |  0.4 |  3.652083 | 4.1434832 | 0 |\n| 2022-04-30 | 30 | 4 | 2022 | 12.82500 | 12.35000 | 12.58750 |  3.0703 | 39.2 |  2.587500 | 0.7467637 | 0 |\n\n",
            "text/latex": "A tibble: 6 × 12\n\\begin{tabular}{llllllllllll}\n Data & Dia & Mês & Ano & Temp\\_max & Temp\\_min & Temp\\_media & Radiacao\\_acum & Precip & GD & Eto & HorasFrio\\\\\n <dttm> & <dbl> & <dbl> & <dbl> & <dbl> & <dbl> & <dbl> & <dbl> & <dbl> & <dbl> & <dbl> & <dbl>\\\\\n\\hline\n\t 2022-04-25 & 25 & 4 & 2022 & 17.33333 & 16.18333 & 16.75833 & 14.4001 &  0.0 &  6.758333 & 3.6307719 & 0\\\\\n\t 2022-04-26 & 26 & 4 & 2022 & 16.58333 & 15.96250 & 16.27292 &  1.8457 &  5.0 &  6.272917 & 0.7258125 & 0\\\\\n\t 2022-04-27 & 27 & 4 & 2022 & 21.08750 & 19.95000 & 20.51875 & 17.7411 &  0.4 & 10.518750 & 5.0830510 & 0\\\\\n\t 2022-04-28 & 28 & 4 & 2022 & 18.07083 & 16.41667 & 17.24375 & 11.3881 & 13.4 &  7.243750 & 2.9556023 & 0\\\\\n\t 2022-04-29 & 29 & 4 & 2022 & 14.20833 & 13.09583 & 13.65208 & 19.0322 &  0.4 &  3.652083 & 4.1434832 & 0\\\\\n\t 2022-04-30 & 30 & 4 & 2022 & 12.82500 & 12.35000 & 12.58750 &  3.0703 & 39.2 &  2.587500 & 0.7467637 & 0\\\\\n\\end{tabular}\n",
            "text/plain": [
              "  Data       Dia Mês Ano  Temp_max Temp_min Temp_media Radiacao_acum Precip\n",
              "1 2022-04-25 25  4   2022 17.33333 16.18333 16.75833   14.4001        0.0  \n",
              "2 2022-04-26 26  4   2022 16.58333 15.96250 16.27292    1.8457        5.0  \n",
              "3 2022-04-27 27  4   2022 21.08750 19.95000 20.51875   17.7411        0.4  \n",
              "4 2022-04-28 28  4   2022 18.07083 16.41667 17.24375   11.3881       13.4  \n",
              "5 2022-04-29 29  4   2022 14.20833 13.09583 13.65208   19.0322        0.4  \n",
              "6 2022-04-30 30  4   2022 12.82500 12.35000 12.58750    3.0703       39.2  \n",
              "  GD        Eto       HorasFrio\n",
              "1  6.758333 3.6307719 0        \n",
              "2  6.272917 0.7258125 0        \n",
              "3 10.518750 5.0830510 0        \n",
              "4  7.243750 2.9556023 0        \n",
              "5  3.652083 4.1434832 0        \n",
              "6  2.587500 0.7467637 0        "
            ]
          },
          "metadata": {}
        }
      ]
    },
    {
      "cell_type": "code",
      "source": [
        "# Visualização das características da variáveis \n",
        "glimpse (dados_clima)"
      ],
      "metadata": {
        "colab": {
          "base_uri": "https://localhost:8080/"
        },
        "id": "8iQQEEbz7pWR",
        "outputId": "4e478347-e6bf-4296-f8e9-a9ee229f9226"
      },
      "execution_count": 7,
      "outputs": [
        {
          "output_type": "stream",
          "name": "stdout",
          "text": [
            "Rows: 5,118\n",
            "Columns: 12\n",
            "$ Data          \u001b[3m\u001b[90m<dttm>\u001b[39m\u001b[23m 2008-04-26, 2008-04-27, 2008-04-28, 2008-04-29, 2008-04…\n",
            "$ Dia           \u001b[3m\u001b[90m<dbl>\u001b[39m\u001b[23m 26, 27, 28, 29, 30, 1, 2, 3, 4, 5, 6, 7, 8, 9, 10, 11, 1…\n",
            "$ Mês           \u001b[3m\u001b[90m<dbl>\u001b[39m\u001b[23m 4, 4, 4, 4, 4, 5, 5, 5, 5, 5, 5, 5, 5, 5, 5, 5, 5, 5, 5,…\n",
            "$ Ano           \u001b[3m\u001b[90m<dbl>\u001b[39m\u001b[23m 2008, 2008, 2008, 2008, 2008, 2008, 2008, 2008, 2008, 20…\n",
            "$ Temp_max      \u001b[3m\u001b[90m<dbl>\u001b[39m\u001b[23m 15.644444, 16.891667, 15.395833, 13.970833, 6.595833, 8.…\n",
            "$ Temp_min      \u001b[3m\u001b[90m<dbl>\u001b[39m\u001b[23m 14.344444, 15.512500, 14.550000, 13.312500, 5.287500, 7.…\n",
            "$ Temp_media    \u001b[3m\u001b[90m<dbl>\u001b[39m\u001b[23m 14.994444, 16.202083, 14.972917, 13.641667, 5.941667, 7.…\n",
            "$ Radiacao_acum \u001b[3m\u001b[90m<dbl>\u001b[39m\u001b[23m 3.0950, 17.2396, 2.1743, 4.2373, 19.4614, 9.7194, 3.8225…\n",
            "$ Precip        \u001b[3m\u001b[90m<dbl>\u001b[39m\u001b[23m 4.0, 0.0, 46.8, 11.4, 0.2, 0.0, 22.4, 5.8, 4.2, 0.4, 0.0…\n",
            "$ GD            \u001b[3m\u001b[90m<dbl>\u001b[39m\u001b[23m 4.994444444, 6.202083333, 4.972916667, 3.641666667, 0.00…\n",
            "$ Eto           \u001b[3m\u001b[90m<dbl>\u001b[39m\u001b[23m 1.7989028, 4.2977587, 0.6192767, 0.9281582, 3.4770749, 1…\n",
            "$ HorasFrio     \u001b[3m\u001b[90m<dbl>\u001b[39m\u001b[23m 1, 0, 0, 0, 16, 14, 0, 0, 0, 0, 7, 12, 7, 14, 13, 10, 1,…\n"
          ]
        }
      ]
    },
    {
      "cell_type": "code",
      "source": [
        "# Visualização do período temporal dos dados \n",
        "range(dados_clima$Data)"
      ],
      "metadata": {
        "colab": {
          "base_uri": "https://localhost:8080/",
          "height": 35
        },
        "id": "W-r9y-R48AkP",
        "outputId": "c91840c1-5c17-4fb8-a272-e402bb7ee790"
      },
      "execution_count": 8,
      "outputs": [
        {
          "output_type": "display_data",
          "data": {
            "text/plain": [
              "[1] \"2008-04-26 UTC\" \"2022-04-30 UTC\""
            ]
          },
          "metadata": {}
        }
      ]
    },
    {
      "cell_type": "code",
      "source": [
        "# Organização do dataframe\n",
        "\n",
        "#remoção coluna de Dia, Mês e Ano - essas colunas não serão necessárias para os procedimentos \n",
        "dados_clima_correct <- select(dados_clima, -Dia, -Mês, -Ano)\n",
        "\n",
        "#duplicando o data frame para conservar os dados originais\n",
        "data2 <- dados_clima_correct\n",
        "\n",
        "#criar uma coluna referente ao Mês/Ano no data2 - função floor_data (pacote lubridate) - os dados são acumulados na frequência mensal \n",
        "data2$year_month <- floor_date(data2$Data, \n",
        "                                  \"month\")\n",
        "\n",
        "#acumular os dados por Mês (pacote dplyr)\n",
        "data_aggr <- data2 %>%\n",
        "  group_by(year_month) %>%\n",
        "  dplyr::summarize(Temp_max = mean(Temp_max), Temp_min = mean(Temp_min), Temp_media = mean(Temp_media),\n",
        "                    Radiacao_acum = mean(Radiacao_acum), Precip = sum(Precip), GD = sum(GD),\n",
        "                    Eto = mean(Eto), HorasFrio = sum(HorasFrio)) %>%\n",
        "                    as.data.frame()\n",
        "\n",
        "#verificação da presença de NA na planilha \n",
        "#is.na(data_aggr) %>% table()\n",
        "\n",
        "#remoção na \n",
        "dado_serie_temporal <- na.omit(data_aggr)\n",
        "#is.nao(dado_serie_temporal) %>% table()"
      ],
      "metadata": {
        "id": "n--VBnbR7yab"
      },
      "execution_count": 9,
      "outputs": []
    },
    {
      "cell_type": "code",
      "source": [
        "# Visualizar estatísticas de cada variável do df\n",
        "summary(dado_serie_temporal)"
      ],
      "metadata": {
        "id": "dXOH1gUqBFYs"
      },
      "execution_count": null,
      "outputs": []
    },
    {
      "cell_type": "code",
      "source": [
        "#xts() cria um objeto de serie temporal\n",
        "ts_historica2 <- xts(dado_serie_temporal[,c(\"Temp_max\", \"Temp_min\", \"Temp_media\", \"Radiacao_acum\", \"Precip\", \"GD\", \"Eto\", \"HorasFrio\")], \n",
        "                  order.by = as.Date(dado_serie_temporal$year_month))\n",
        "\n",
        "# ts_regular()  \n",
        "ts_historica2 <- ts_regular(ts_historica2)\n",
        "\n",
        "ts_historica2 <- na.fill(ts_historica2, \"extend\")\n",
        "\n",
        "#range(dados_clima_correct$Data)\n",
        "ts_historica2 <- window(ts_historica2, start=as.Date(\"2008-04-01\"), end=as.Date(\"2022-04-01\"))"
      ],
      "metadata": {
        "id": "jVp7BTQC90Ks"
      },
      "execution_count": 10,
      "outputs": []
    },
    {
      "cell_type": "code",
      "source": [
        "# Decomposição da série temporal de cada uma das variáveis - biblioteca stl ()\n",
        "    # A biblioteca stl () realiza a decomposição por meio da função LOESS\n",
        "\n",
        "  #Precipitação \n",
        "  decompose_Precip = stl(ts_ts(ts_historica2$Precip), s.window = 10) \n",
        "  plot(decompose_Precip, main = \"Decomposição série Precipitação 2008-2022\")\n",
        "  summary(decompose_Precip$time.series[,\"trend\"])\n",
        "\n",
        "  #Temperatura máxima\n",
        "  decompose_Tempmax = stl(ts_ts(ts_historica2$Temp_max), s.window = 10)\n",
        "  plot(decompose_Tempmax, main = \"Decomposição série Temperatura máxima 2008 - 2022\")\n",
        "  summary(decompose_Tempmax$time.series[,\"trend\"])\n",
        "\n",
        "  # Temperatura mínima\n",
        "  decompose_Tempmin = stl(ts_ts(ts_historica2$Temp_min), s.window = 10)\n",
        "  plot(decompose_Tempmin, main = \"Decomposição série Temperatura mínima 2008 - 2022\")\n",
        "  summary(decompose_Tempmin$time.series[,\"trend\"])\n",
        "\n",
        "  # Temperatura média\n",
        "  decompose_Tempmed = stl(ts_ts(ts_historica2$Temp_media), s.window = 10)\n",
        "  plot(decompose_Tempmed, main = \"Decomposição série Temperatura média 2008 - 2022\")\n",
        "  summary(decompose_Tempmed$time.series[,\"trend\"])\n",
        "\n",
        "  # Radiação solar acumulada\n",
        "  decompose_RadAcum = stl(ts_ts(ts_historica2$Radiacao_acum), s.window = 10)\n",
        "  plot(decompose_RadAcum, main = \"Decomposição série Radiação Solar Acumulada 2008 - 2022\")\n",
        "  summary(decompose_RadAcum$time.series[,\"trend\"])\n",
        "\n",
        "  #Horas frio\n",
        "  decompose_HF = stl(ts_ts(ts_historica2$HorasFrio), s.window = 10)\n",
        "  plot(decompose_HF, main = \"Decomposição série Horas Frio 2008 - 2022\")\n",
        "  summary(decompose_HF$time.series[,\"trend\"])\n",
        "\n",
        "  #Eto\n",
        "  decompose_Eto = stl(ts_ts(ts_historica2$Eto), s.window = 10) #s.window= 10 anos para 'identificar' a sazonalidade\n",
        "  plot(decompose_Eto, main = \"Decomposição série Eto 2008 - 2022\")\n",
        "  summary(decompose_Eto$time.series[,\"trend\"])\n",
        "\n",
        "  #Graus Dia\n",
        "  decompose_GD = stl(ts_ts(ts_historica2$GD), s.window = 10)\n",
        "  plot(decompose_GD, main = \"Decomposição série Graus Dia 2008 - 2022\")\n",
        "  summary(decompose_GD$time.series[,\"trend\"])"
      ],
      "metadata": {
        "id": "FZn4z9I6-6JV"
      },
      "execution_count": null,
      "outputs": []
    },
    {
      "cell_type": "code",
      "source": [
        "# Avaliação da tendência da série (por variável) - plotagem do gráfico com a série temporal e a sua tendência \n",
        "  #Abaixo está o exemplo da variável de Precipitação; para plotar as demais, basta substituir o nome da variável de interesse\n",
        "\n",
        "#Precipitação\n",
        "plot.ts(ts_historica2$Precip, axes=FALSE)\n",
        "par(new=TRUE)\n",
        "plot(decompose_Precip$time.series[,\"trend\"],\n",
        "        col = \"red\", lwd = 1, lty =2, ylab=FALSE)\n",
        "\n"
      ],
      "metadata": {
        "id": "HA0rXlE6_s24"
      },
      "execution_count": null,
      "outputs": []
    }
  ]
}